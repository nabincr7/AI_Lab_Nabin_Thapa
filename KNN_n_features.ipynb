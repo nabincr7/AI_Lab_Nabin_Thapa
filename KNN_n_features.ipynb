{
  "nbformat": 4,
  "nbformat_minor": 0,
  "metadata": {
    "colab": {
      "provenance": []
    },
    "kernelspec": {
      "name": "python3",
      "display_name": "Python 3"
    },
    "language_info": {
      "name": "python"
    }
  },
  "cells": [
    {
      "cell_type": "code",
      "execution_count": 15,
      "metadata": {
        "colab": {
          "base_uri": "https://localhost:8080/"
        },
        "id": "Ahcf17tUSjqF",
        "outputId": "6c3454b5-782d-4e54-8eec-6ee92ed92d24"
      },
      "outputs": [
        {
          "output_type": "stream",
          "name": "stdout",
          "text": [
            "Test samples: [[5.8 2.7 5.1]\n",
            " [6.3 3.3 6. ]\n",
            " [5.1 3.5 1.4]]\n",
            "True labels: [2. 2. 0.]\n",
            "Predicted labels: [2. 1. 0.]\n",
            "Accuracy: 0.67\n",
            "\n",
            "Prediction for new point: [5.7 3.  4.2]: Species 2\n"
          ]
        }
      ],
      "source": [
        "import numpy as np\n",
        "from collections import Counter\n",
        "from sklearn.model_selection import train_test_split\n",
        "from sklearn.metrics import accuracy_score\n",
        "\n",
        "# Dataset\n",
        "data = [\n",
        "    [5.1, 3.5, 1.4, 0],\n",
        "    [4.9, 3.0, 1.3, 0],\n",
        "    [5.0, 3.4, 1.5, 0],\n",
        "    [7.0, 3.2, 4.7, 1],\n",
        "    [6.4, 3.2, 4.5, 1],\n",
        "    [6.9, 3.1, 4.9, 1],\n",
        "    [5.5, 2.3, 4.0, 2],\n",
        "    [6.5, 2.8, 4.6, 2],\n",
        "    [5.7, 2.8, 4.1, 2],\n",
        "    [6.3, 3.3, 6.0, 2],\n",
        "    [5.8, 2.7, 5.1, 2],\n",
        "    [6.1, 3.0, 4.8, 2]\n",
        "]\n",
        "\n",
        "data = np.array(data)\n",
        "X = data[:, :-1]  # Features (all columns except last)\n",
        "y = data[:, -1]   # Class labels (last column)\n",
        "\n",
        "# Split into train and test sets (80% train, 20% test)\n",
        "X_train, X_test, y_train, y_test = train_test_split(X, y, test_size=0.2, random_state=42)\n",
        "\n",
        "def euclidean_distance(x1, x2):\n",
        "    return np.sqrt(np.sum((x1 - x2) ** 2))\n",
        "\n",
        "def knn_predict(X_train, y_train, x_test, k=5):\n",
        "    distances = []\n",
        "\n",
        "    for i in range(len(X_train)):\n",
        "        dist = euclidean_distance(X_train[i], x_test)\n",
        "        distances.append((dist, y_train[i]))\n",
        "\n",
        "    # Sorting\n",
        "    distances.sort(key=lambda x: x[0])\n",
        "    neighbors = distances[:k]\n",
        "\n",
        "    neighbor_classes = [neighbor[1] for neighbor in neighbors]\n",
        "\n",
        "    most_common = Counter(neighbor_classes).most_common()\n",
        "    if len(most_common) > 1 and most_common[0][1] == most_common[1][1]:\n",
        "        return min(most_common[0][0], most_common[1][0])\n",
        "    return most_common[0][0]\n",
        "\n",
        "def knn_predict_all(X_train, y_train, X_test, k=5):\n",
        "    return np.array([knn_predict(X_train, y_train, x_test, k) for x_test in X_test])\n",
        "\n",
        "k = 5\n",
        "y_pred = knn_predict_all(X_train, y_train, X_test, k)\n",
        "\n",
        "print(\"Test samples:\", X_test)\n",
        "print(\"True labels:\", y_test)\n",
        "print(\"Predicted labels:\", y_pred)\n",
        "print(f\"Accuracy: {accuracy_score(y_test, y_pred):.2f}\")\n",
        "\n",
        "# Predict for a new test point\n",
        "new_point = np.array([5.7, 3.0, 4.2])\n",
        "prediction = knn_predict(X_train, y_train, new_point, k)\n",
        "print(f\"\\nPrediction for new point: {new_point}: Species {int(prediction)}\")"
      ]
    }
  ]
}