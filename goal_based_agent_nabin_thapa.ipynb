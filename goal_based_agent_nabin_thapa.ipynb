{
  "nbformat": 4,
  "nbformat_minor": 0,
  "metadata": {
    "colab": {
      "provenance": []
    },
    "kernelspec": {
      "name": "python3",
      "display_name": "Python 3"
    },
    "language_info": {
      "name": "python"
    }
  },
  "cells": [
    {
      "cell_type": "code",
      "execution_count": 1,
      "metadata": {
        "colab": {
          "base_uri": "https://localhost:8080/",
          "height": 520
        },
        "id": "szP_qelFQL03",
        "outputId": "e09ece3d-1cd2-42b4-a202-894a6bcb29f7"
      },
      "outputs": [
        {
          "output_type": "display_data",
          "data": {
            "text/plain": [
              "<Figure size 600x600 with 1 Axes>"
            ],
            "image/png": "[encoded data removed]"
          },
          "metadata": {}
        },
        {
          "output_type": "stream",
          "name": "stdout",
          "text": [
            "Cleaning complete in 51 steps.\n"
          ]
        }
      ],
      "source": [
        "import matplotlib.pyplot as plt\n",
        "import matplotlib.patches as patches\n",
        "import numpy as np\n",
        "import time\n",
        "from IPython.display import clear_output\n",
        "\n",
        "# Grid size\n",
        "ROWS, COLS = 10, 10\n",
        "\n",
        "# Initialize dirt grid (1 = dirt, 0 = clean)\n",
        "np.random.seed(42)\n",
        "dirt_grid = (np.random.rand(ROWS, COLS) < 0.2).astype(int)\n",
        "\n",
        "# Agent starts in the center\n",
        "agent_pos = [5, 5]\n",
        "\n",
        "def is_valid(r, c):\n",
        "    return 0 <= r < ROWS and 0 <= c < COLS\n",
        "\n",
        "def find_nearest_dirt():\n",
        "    from collections import deque\n",
        "    visited = np.zeros((ROWS, COLS), dtype=bool)\n",
        "    queue = deque()\n",
        "    parent = {}\n",
        "\n",
        "    start = (agent_pos[0], agent_pos[1])\n",
        "    queue.append(start)\n",
        "    visited[start[0], start[1]] = True\n",
        "\n",
        "    while queue:\n",
        "        r, c = queue.popleft()\n",
        "        if dirt_grid[r, c] == 1:\n",
        "            # Backtrack to find the first step\n",
        "            while parent.get((r, c)) != start:\n",
        "                r, c = parent[(r, c)]\n",
        "            return [(r, c)]  # Return only next step\n",
        "        for dr, dc in [(-1,0), (1,0), (0,-1), (0,1)]:\n",
        "            nr, nc = r + dr, c + dc\n",
        "            if is_valid(nr, nc) and not visited[nr, nc]:\n",
        "                visited[nr, nc] = True\n",
        "                queue.append((nr, nc))\n",
        "                parent[(nr, nc)] = (r, c)\n",
        "\n",
        "    return None  # No dirt found\n",
        "\n",
        "def draw_grid():\n",
        "    fig, ax = plt.subplots(figsize=(6,6))\n",
        "    ax.set_xlim(0, COLS)\n",
        "    ax.set_ylim(0, ROWS)\n",
        "    ax.set_xticks(np.arange(0, COLS+1, 1))\n",
        "    ax.set_yticks(np.arange(0, ROWS+1, 1))\n",
        "    ax.set_xticklabels([])\n",
        "    ax.set_yticklabels([])\n",
        "    ax.grid(True)\n",
        "\n",
        "    # Draw dirt\n",
        "    for r in range(ROWS):\n",
        "        for c in range(COLS):\n",
        "            if dirt_grid[r, c] == 1:\n",
        "                rect = patches.Rectangle((c, ROWS - r - 1), 1, 1, facecolor='saddlebrown')\n",
        "                ax.add_patch(rect)\n",
        "\n",
        "    # Draw agent\n",
        "    ar, ac = agent_pos\n",
        "    circ = patches.Circle((ac + 0.5, ROWS - ar - 0.5), 0.3, facecolor='blue')\n",
        "    ax.add_patch(circ)\n",
        "\n",
        "    plt.show()\n",
        "\n",
        "# Simulation loop\n",
        "steps = 0\n",
        "max_steps = 100\n",
        "\n",
        "while steps < max_steps and np.any(dirt_grid == 1):\n",
        "    clear_output(wait=True)\n",
        "    draw_grid()\n",
        "    time.sleep(0.3)\n",
        "    r, c = agent_pos\n",
        "    cleaned = False\n",
        "\n",
        "    # Check adjacent cells\n",
        "    for dr in [-1, 0, 1]:\n",
        "        for dc in [-1, 0, 1]:\n",
        "            if dr == 0 and dc == 0:\n",
        "                continue\n",
        "            nr, nc = r + dr, c + dc\n",
        "            if is_valid(nr, nc) and dirt_grid[nr, nc] == 1:\n",
        "                agent_pos = [nr, nc]\n",
        "                dirt_grid[nr, nc] = 0\n",
        "                cleaned = True\n",
        "                break\n",
        "        if cleaned:\n",
        "            break\n",
        "\n",
        "    # If no adjacent dirt, go to nearest\n",
        "    if not cleaned:\n",
        "        path = find_nearest_dirt()\n",
        "        if path and len(path) > 0:\n",
        "            next_step = path[0]\n",
        "            agent_pos = list(next_step)\n",
        "\n",
        "    steps += 1\n",
        "\n",
        "# Final state\n",
        "clear_output(wait=True)\n",
        "draw_grid()\n",
        "print(\"Cleaning complete in\", steps, \"steps.\")\n"
      ]
    }
  ]
}